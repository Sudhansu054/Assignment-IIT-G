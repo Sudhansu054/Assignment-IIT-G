{
 "cells": [
  {
   "cell_type": "code",
   "execution_count": null,
   "metadata": {
    "colab": {
     "base_uri": "https://localhost:8080/",
     "height": 458
    },
    "id": "SSiDifzcNdz5",
    "outputId": "4bfeca9b-bbb1-4d2b-9ff0-77c8da34f211"
   },
   "outputs": [],
   "source": [
    "import numpy as np \n",
    "import matplotlib.pyplot as plt\n",
    "import seaborn as sns; sns.set()\n",
    "import jax.numpy as jnp\n",
    "from jax import grad, jit, vmap\n",
    "from jax import random\n",
    "\n",
    "\n",
    "\n"
   ]
  },
  {
   "cell_type": "code",
   "execution_count": null,
   "metadata": {},
   "outputs": [],
   "source": [
    "# Define dimension. \n",
    "d = 10\n",
    "\n",
    "\n",
    "a=[-3,-2,-1,0,1,2,3]\n"
   ]
  },
  {
   "cell_type": "code",
   "execution_count": null,
   "metadata": {},
   "outputs": [],
   "source": [
    "# Set mean vector. \n",
    "m = np.random.choice(a, size=(10, 1))\n",
    "\n",
    "# Set covariance function. \n",
    "K_0 = np.random.choice(a, size=(10, 10))\n",
    "\n"
   ]
  },
  {
   "cell_type": "code",
   "execution_count": null,
   "metadata": {},
   "outputs": [],
   "source": [
    "# Eigenvalues covariance function.\n",
    "np.linalg.eigvals(K_0)\n",
    "\n"
   ]
  },
  {
   "cell_type": "code",
   "execution_count": null,
   "metadata": {},
   "outputs": [],
   "source": [
    "# Define epsilon.\n",
    "epsilon = 0.0001\n",
    "\n"
   ]
  },
  {
   "cell_type": "code",
   "execution_count": null,
   "metadata": {},
   "outputs": [],
   "source": [
    "# Add small pertturbation. \n",
    "K = K_0 + epsilon*np.identity(d)\n",
    "\n"
   ]
  },
  {
   "cell_type": "code",
   "execution_count": null,
   "metadata": {},
   "outputs": [],
   "source": [
    "#  Cholesky decomposition.\n",
    "L=jnp.linalg.cholesky(K)\n",
    "\n"
   ]
  },
  {
   "cell_type": "code",
   "execution_count": null,
   "metadata": {},
   "outputs": [],
   "source": [
    "# Generate Independent Samples\n",
    "\n",
    "# Number of samples. \n",
    "n = 10000\n",
    "\n",
    "u = np.random.normal(loc=0, scale=1, size=d*n).reshape(d, n)\n",
    "\n",
    "\n"
   ]
  },
  {
   "cell_type": "code",
   "execution_count": null,
   "metadata": {},
   "outputs": [],
   "source": [
    "#The variable   x=m+Lu  has a multivariate normal distribution since is a linear combination of independent normally distributed variables.\n",
    "x = m + np.dot(L, u)\n",
    "\n",
    "# Let us plot the density function.\n",
    "\n",
    "sns.jointplot(x=x[6], y=x[9], kind=\"kde\", space=-1)\n"
   ]
  }
 ],
 "metadata": {
  "colab": {
   "collapsed_sections": [],
   "name": "multivariate normal distribution",
   "provenance": []
  },
  "kernelspec": {
   "display_name": "Python 3 (ipykernel)",
   "language": "python",
   "name": "python3"
  },
  "language_info": {
   "codemirror_mode": {
    "name": "ipython",
    "version": 3
   },
   "file_extension": ".py",
   "mimetype": "text/x-python",
   "name": "python",
   "nbconvert_exporter": "python",
   "pygments_lexer": "ipython3",
   "version": "3.9.7"
  }
 },
 "nbformat": 4,
 "nbformat_minor": 1
}
